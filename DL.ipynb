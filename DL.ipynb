{
  "nbformat": 4,
  "nbformat_minor": 0,
  "metadata": {
    "colab": {
      "provenance": [],
      "authorship_tag": "ABX9TyNk+/Ub3BCJIhgmCOdvl/Sp",
      "include_colab_link": true
    },
    "kernelspec": {
      "name": "python3",
      "display_name": "Python 3"
    },
    "language_info": {
      "name": "python"
    }
  },
  "cells": [
    {
      "cell_type": "markdown",
      "metadata": {
        "id": "view-in-github",
        "colab_type": "text"
      },
      "source": [
        "<a href=\"https://colab.research.google.com/github/Madhura0802/DL-4/blob/main/DL.ipynb\" target=\"_parent\"><img src=\"https://colab.research.google.com/assets/colab-badge.svg\" alt=\"Open In Colab\"/></a>"
      ]
    },
    {
      "cell_type": "code",
      "execution_count": null,
      "metadata": {
        "id": "7OLJF8uPWFjJ"
      },
      "outputs": [],
      "source": [
        "import numpy as np\n",
        "import pandas as pd\n",
        "import matplotlib.pyplot as plt\n",
        "from sklearn.preprocessing import MinMaxScaler\n",
        "from keras.models import Sequential\n",
        "from keras.layers import Dense, LSTM"
      ]
    },
    {
      "cell_type": "code",
      "source": [
        "dataset = pd.read_csv('GOOGL.csv', index_col='Date', parse_dates=['Date'])"
      ],
      "metadata": {
        "id": "yatDD5smWd8S"
      },
      "execution_count": null,
      "outputs": []
    },
    {
      "cell_type": "code",
      "source": [
        "train_set = dataset[:'2018'].iloc[:, 1:2].values\n",
        "test_set = dataset['2019':].iloc[:, 1:2].values\n"
      ],
      "metadata": {
        "id": "SyWST-OZWoy6"
      },
      "execution_count": null,
      "outputs": []
    },
    {
      "cell_type": "code",
      "source": [
        "sc = MinMaxScaler(feature_range=(0, 1))\n",
        "train_set_scaled = sc.fit_transform(train_set)\n"
      ],
      "metadata": {
        "id": "3Yvba-IiWtNH"
      },
      "execution_count": null,
      "outputs": []
    },
    {
      "cell_type": "code",
      "source": [
        "def create_dataset(dataset, look_back=60):\n",
        "    X, Y = [], []\n",
        "    for i in range(look_back, len(dataset)):\n",
        "        X.append(dataset[i-look_back:i, 0])\n",
        "        Y.append(dataset[i, 0])\n",
        "    X, Y = np.array(X), np.array(Y)\n",
        "    X = np.reshape(X, (X.shape[0], X.shape[1], 1))\n",
        "    return X, Y"
      ],
      "metadata": {
        "id": "I34PBnNmWw4g"
      },
      "execution_count": null,
      "outputs": []
    },
    {
      "cell_type": "code",
      "source": [
        "look_back = 60\n",
        "X_train, Y_train = create_dataset(train_set_scaled, look_back)\n",
        "X_test, Y_test = create_dataset(test_set, look_back)\n",
        "\n"
      ],
      "metadata": {
        "id": "nn9XxOjlW22v"
      },
      "execution_count": null,
      "outputs": []
    },
    {
      "cell_type": "code",
      "source": [
        "model = Sequential()\n",
        "model.add(LSTM(units=50, return_sequences=True, input_shape=(X_train.shape[1], 1)))\n",
        "model.add(LSTM(units=50))\n",
        "model.add(Dense(units=1))\n",
        "model.compile(optimizer='adam', loss='mean_squared_error')"
      ],
      "metadata": {
        "id": "UCW72rNcW8C8"
      },
      "execution_count": null,
      "outputs": []
    },
    {
      "cell_type": "code",
      "source": [
        "model.fit(X_train, Y_train, epochs=100, batch_size=32)"
      ],
      "metadata": {
        "colab": {
          "base_uri": "https://localhost:8080/"
        },
        "id": "e1hyCUn0XAR-",
        "outputId": "7e2c0b16-496d-4aad-d0a6-b9b7912c79bc"
      },
      "execution_count": null,
      "outputs": [
        {
          "output_type": "stream",
          "name": "stdout",
          "text": [
            "Epoch 1/100\n",
            "112/112 [==============================] - 11s 53ms/step - loss: 0.0049\n",
            "Epoch 2/100\n",
            "112/112 [==============================] - 7s 64ms/step - loss: 2.2764e-04\n",
            "Epoch 3/100\n",
            "112/112 [==============================] - 6s 53ms/step - loss: 2.3083e-04\n",
            "Epoch 4/100\n",
            "112/112 [==============================] - 7s 64ms/step - loss: 2.3351e-04\n",
            "Epoch 5/100\n",
            "112/112 [==============================] - 7s 60ms/step - loss: 2.1252e-04\n",
            "Epoch 6/100\n",
            "112/112 [==============================] - 7s 63ms/step - loss: 2.0036e-04\n",
            "Epoch 7/100\n",
            "112/112 [==============================] - 6s 58ms/step - loss: 2.0915e-04\n",
            "Epoch 8/100\n",
            "112/112 [==============================] - 7s 59ms/step - loss: 1.9750e-04\n",
            "Epoch 9/100\n",
            "112/112 [==============================] - 8s 69ms/step - loss: 1.8016e-04\n",
            "Epoch 10/100\n",
            "112/112 [==============================] - 8s 70ms/step - loss: 1.9454e-04\n",
            "Epoch 11/100\n",
            "112/112 [==============================] - 8s 68ms/step - loss: 1.7315e-04\n",
            "Epoch 12/100\n",
            "112/112 [==============================] - 6s 54ms/step - loss: 2.0613e-04\n",
            "Epoch 13/100\n",
            "112/112 [==============================] - 7s 64ms/step - loss: 1.6516e-04\n",
            "Epoch 14/100\n",
            "112/112 [==============================] - 6s 54ms/step - loss: 1.4276e-04\n",
            "Epoch 15/100\n",
            "112/112 [==============================] - 7s 65ms/step - loss: 1.3333e-04\n",
            "Epoch 16/100\n",
            "112/112 [==============================] - 6s 54ms/step - loss: 1.3361e-04\n",
            "Epoch 17/100\n",
            "112/112 [==============================] - 7s 65ms/step - loss: 1.2769e-04\n",
            "Epoch 18/100\n",
            "112/112 [==============================] - 6s 54ms/step - loss: 1.0853e-04\n",
            "Epoch 19/100\n",
            "112/112 [==============================] - 7s 65ms/step - loss: 1.4909e-04\n",
            "Epoch 20/100\n",
            "112/112 [==============================] - 6s 53ms/step - loss: 1.0963e-04\n",
            "Epoch 21/100\n",
            "112/112 [==============================] - 7s 64ms/step - loss: 1.0711e-04\n",
            "Epoch 22/100\n",
            "112/112 [==============================] - 6s 56ms/step - loss: 1.0808e-04\n",
            "Epoch 23/100\n",
            "112/112 [==============================] - 7s 61ms/step - loss: 8.9202e-05\n",
            "Epoch 24/100\n",
            "112/112 [==============================] - 7s 60ms/step - loss: 8.7313e-05\n",
            "Epoch 25/100\n",
            "112/112 [==============================] - 7s 58ms/step - loss: 9.4833e-05\n",
            "Epoch 26/100\n",
            "112/112 [==============================] - 7s 65ms/step - loss: 8.1804e-05\n",
            "Epoch 27/100\n",
            "112/112 [==============================] - 6s 54ms/step - loss: 9.1675e-05\n",
            "Epoch 28/100\n",
            "112/112 [==============================] - 7s 64ms/step - loss: 7.9512e-05\n",
            "Epoch 29/100\n",
            "112/112 [==============================] - 6s 54ms/step - loss: 8.5574e-05\n",
            "Epoch 30/100\n",
            "112/112 [==============================] - 7s 64ms/step - loss: 8.0319e-05\n",
            "Epoch 31/100\n",
            "112/112 [==============================] - 6s 54ms/step - loss: 8.5639e-05\n",
            "Epoch 32/100\n",
            "112/112 [==============================] - 7s 64ms/step - loss: 6.6271e-05\n",
            "Epoch 33/100\n",
            "112/112 [==============================] - 6s 54ms/step - loss: 7.6350e-05\n",
            "Epoch 34/100\n",
            "112/112 [==============================] - 7s 64ms/step - loss: 6.8976e-05\n",
            "Epoch 35/100\n",
            "112/112 [==============================] - 6s 53ms/step - loss: 7.0280e-05\n",
            "Epoch 36/100\n",
            "112/112 [==============================] - 7s 64ms/step - loss: 6.9300e-05\n",
            "Epoch 37/100\n",
            "112/112 [==============================] - 6s 54ms/step - loss: 6.4745e-05\n",
            "Epoch 38/100\n",
            "112/112 [==============================] - 7s 65ms/step - loss: 6.9615e-05\n",
            "Epoch 39/100\n",
            "112/112 [==============================] - 6s 53ms/step - loss: 5.8144e-05\n",
            "Epoch 40/100\n",
            "112/112 [==============================] - 7s 63ms/step - loss: 6.1727e-05\n",
            "Epoch 41/100\n",
            "112/112 [==============================] - 6s 52ms/step - loss: 6.0687e-05\n",
            "Epoch 42/100\n",
            "112/112 [==============================] - 7s 62ms/step - loss: 5.9112e-05\n",
            "Epoch 43/100\n",
            "112/112 [==============================] - 6s 51ms/step - loss: 5.9396e-05\n",
            "Epoch 44/100\n",
            "112/112 [==============================] - 7s 61ms/step - loss: 5.6624e-05\n",
            "Epoch 45/100\n",
            "112/112 [==============================] - 6s 53ms/step - loss: 4.9558e-05\n",
            "Epoch 46/100\n",
            "112/112 [==============================] - 7s 65ms/step - loss: 5.7976e-05\n",
            "Epoch 47/100\n",
            "112/112 [==============================] - 6s 55ms/step - loss: 5.4342e-05\n",
            "Epoch 48/100\n",
            "112/112 [==============================] - 7s 65ms/step - loss: 5.4508e-05\n",
            "Epoch 49/100\n",
            "112/112 [==============================] - 6s 54ms/step - loss: 5.1593e-05\n",
            "Epoch 50/100\n",
            "112/112 [==============================] - 7s 63ms/step - loss: 5.5679e-05\n",
            "Epoch 51/100\n",
            "112/112 [==============================] - 6s 52ms/step - loss: 6.4272e-05\n",
            "Epoch 52/100\n",
            "112/112 [==============================] - 7s 63ms/step - loss: 6.6483e-05\n",
            "Epoch 53/100\n",
            "112/112 [==============================] - 6s 53ms/step - loss: 4.5106e-05\n",
            "Epoch 54/100\n",
            "112/112 [==============================] - 7s 66ms/step - loss: 4.9913e-05\n",
            "Epoch 55/100\n",
            "112/112 [==============================] - 6s 50ms/step - loss: 6.4490e-05\n",
            "Epoch 56/100\n",
            "112/112 [==============================] - 7s 62ms/step - loss: 6.2858e-05\n",
            "Epoch 57/100\n",
            "112/112 [==============================] - 6s 52ms/step - loss: 4.7592e-05\n",
            "Epoch 58/100\n",
            "112/112 [==============================] - 7s 63ms/step - loss: 5.0606e-05\n",
            "Epoch 59/100\n",
            "112/112 [==============================] - 6s 54ms/step - loss: 4.6141e-05\n",
            "Epoch 60/100\n",
            "112/112 [==============================] - 7s 60ms/step - loss: 5.1587e-05\n",
            "Epoch 61/100\n",
            "112/112 [==============================] - 6s 51ms/step - loss: 5.2375e-05\n",
            "Epoch 62/100\n",
            "112/112 [==============================] - 7s 62ms/step - loss: 4.9254e-05\n",
            "Epoch 63/100\n",
            "112/112 [==============================] - 6s 52ms/step - loss: 5.4511e-05\n",
            "Epoch 64/100\n",
            "112/112 [==============================] - 7s 62ms/step - loss: 4.1352e-05\n",
            "Epoch 65/100\n",
            "112/112 [==============================] - 6s 51ms/step - loss: 4.7046e-05\n",
            "Epoch 66/100\n",
            "112/112 [==============================] - 7s 63ms/step - loss: 7.1851e-05\n",
            "Epoch 67/100\n",
            "112/112 [==============================] - 6s 51ms/step - loss: 4.8305e-05\n",
            "Epoch 68/100\n",
            "112/112 [==============================] - 7s 61ms/step - loss: 4.3114e-05\n",
            "Epoch 69/100\n",
            "112/112 [==============================] - 6s 51ms/step - loss: 4.9368e-05\n",
            "Epoch 70/100\n",
            "112/112 [==============================] - 7s 62ms/step - loss: 5.3101e-05\n",
            "Epoch 71/100\n",
            "112/112 [==============================] - 6s 50ms/step - loss: 4.4169e-05\n",
            "Epoch 72/100\n",
            "112/112 [==============================] - 7s 62ms/step - loss: 4.3433e-05\n",
            "Epoch 73/100\n",
            "112/112 [==============================] - 6s 50ms/step - loss: 4.0692e-05\n",
            "Epoch 74/100\n",
            "112/112 [==============================] - 7s 62ms/step - loss: 4.4035e-05\n",
            "Epoch 75/100\n",
            "112/112 [==============================] - 6s 52ms/step - loss: 4.6043e-05\n",
            "Epoch 76/100\n",
            "112/112 [==============================] - 7s 62ms/step - loss: 4.6515e-05\n",
            "Epoch 77/100\n",
            "112/112 [==============================] - 6s 51ms/step - loss: 5.4839e-05\n",
            "Epoch 78/100\n",
            "112/112 [==============================] - 7s 62ms/step - loss: 4.6888e-05\n",
            "Epoch 79/100\n",
            "112/112 [==============================] - 6s 51ms/step - loss: 4.5691e-05\n",
            "Epoch 80/100\n",
            "112/112 [==============================] - 7s 63ms/step - loss: 4.2338e-05\n",
            "Epoch 81/100\n",
            "112/112 [==============================] - 6s 53ms/step - loss: 4.3251e-05\n",
            "Epoch 82/100\n",
            "112/112 [==============================] - 7s 64ms/step - loss: 5.3888e-05\n",
            "Epoch 83/100\n",
            "112/112 [==============================] - 6s 52ms/step - loss: 4.3304e-05\n",
            "Epoch 84/100\n",
            "112/112 [==============================] - 7s 63ms/step - loss: 4.3278e-05\n",
            "Epoch 85/100\n",
            "112/112 [==============================] - 6s 55ms/step - loss: 4.5859e-05\n",
            "Epoch 86/100\n",
            "112/112 [==============================] - 7s 63ms/step - loss: 5.7445e-05\n",
            "Epoch 87/100\n",
            "112/112 [==============================] - 6s 54ms/step - loss: 3.9965e-05\n",
            "Epoch 88/100\n",
            "112/112 [==============================] - 7s 60ms/step - loss: 4.3527e-05\n",
            "Epoch 89/100\n",
            "112/112 [==============================] - 6s 56ms/step - loss: 4.2879e-05\n",
            "Epoch 90/100\n",
            "112/112 [==============================] - 7s 62ms/step - loss: 4.8484e-05\n",
            "Epoch 91/100\n",
            "112/112 [==============================] - 6s 52ms/step - loss: 3.8486e-05\n",
            "Epoch 92/100\n",
            "112/112 [==============================] - 7s 61ms/step - loss: 3.9547e-05\n",
            "Epoch 93/100\n",
            "112/112 [==============================] - 6s 52ms/step - loss: 4.9356e-05\n",
            "Epoch 94/100\n",
            "112/112 [==============================] - 7s 60ms/step - loss: 4.3809e-05\n",
            "Epoch 95/100\n",
            "112/112 [==============================] - 6s 54ms/step - loss: 4.6855e-05\n",
            "Epoch 96/100\n",
            "112/112 [==============================] - 7s 61ms/step - loss: 5.9139e-05\n",
            "Epoch 97/100\n",
            "112/112 [==============================] - 6s 55ms/step - loss: 4.6226e-05\n",
            "Epoch 98/100\n",
            "112/112 [==============================] - 7s 60ms/step - loss: 4.1033e-05\n",
            "Epoch 99/100\n",
            "112/112 [==============================] - 6s 51ms/step - loss: 4.8312e-05\n",
            "Epoch 100/100\n",
            "112/112 [==============================] - 7s 61ms/step - loss: 4.2590e-05\n"
          ]
        },
        {
          "output_type": "execute_result",
          "data": {
            "text/plain": [
              "<keras.callbacks.History at 0x7f9167d83b80>"
            ]
          },
          "metadata": {},
          "execution_count": 9
        }
      ]
    },
    {
      "cell_type": "code",
      "source": [
        "mse = model.evaluate(X_test, Y_test)\n",
        "rmse = np.sqrt(mse)"
      ],
      "metadata": {
        "colab": {
          "base_uri": "https://localhost:8080/"
        },
        "id": "FDUHuFfCZssW",
        "outputId": "3d7e0a78-9999-4378-d4cc-d7cbd204799c"
      },
      "execution_count": null,
      "outputs": [
        {
          "output_type": "stream",
          "name": "stdout",
          "text": [
            "24/24 [==============================] - 3s 30ms/step - loss: 3840655.0000\n"
          ]
        }
      ]
    },
    {
      "cell_type": "code",
      "source": [
        "\n",
        "last_60_days = train_set[-60:]\n",
        "last_60_days_scaled = sc.transform(last_60_days)\n",
        "X_pred = np.array([last_60_days_scaled])\n",
        "X_pred = np.reshape(X_pred, (X_pred.shape[0], X_pred.shape[1], 1))\n",
        "pred_price = model.predict(X_pred)\n",
        "pred_price = sc.inverse_transform(pred_price)\n",
        "print(pred_price)"
      ],
      "metadata": {
        "id": "is1fh9NbZ1BP",
        "outputId": "2ef08c51-9d4a-4cc2-a374-7e090110a8f1",
        "colab": {
          "base_uri": "https://localhost:8080/"
        }
      },
      "execution_count": null,
      "outputs": [
        {
          "output_type": "stream",
          "name": "stdout",
          "text": [
            "1/1 [==============================] - 1s 806ms/step\n",
            "[[1065.1842]]\n"
          ]
        }
      ]
    }
  ]
}